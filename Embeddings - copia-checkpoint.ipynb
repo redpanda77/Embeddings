{
 "cells": [
  {
   "cell_type": "code",
   "execution_count": 1,
   "metadata": {
    "ExecuteTime": {
     "end_time": "2019-01-27T12:25:45.511374Z",
     "start_time": "2019-01-27T12:25:35.278710Z"
    }
   },
   "outputs": [],
   "source": [
    "import os\n",
    "import sys\n",
    "import gensim\n",
    "#import pyLDAvis\n",
    "import itertools\n",
    "import collections\n",
    "import numpy as np\n",
    "import pandas as pd\n",
    "#import pyLDAvis.gensim\n",
    "#import tensorflow as tf\n",
    "from ipywidgets import widgets\n",
    "from collections import Counter\n",
    "from IPython.display import display\n",
    "from  tqdm import tqdm, tqdm_notebook\n",
    "from IPython.display import clear_output\n",
    "from itertools import combinations, groupby\n",
    "from gensim.models.doc2vec import Doc2Vec, TaggedDocument\n",
    "#from tensorflow.contrib.tensorboard.plugins import projector"
   ]
  },
  {
   "cell_type": "code",
   "execution_count": 2,
   "metadata": {},
   "outputs": [],
   "source": [
    "#DATA EXTRACTION"
   ]
  },
  {
   "cell_type": "code",
   "execution_count": 7,
   "metadata": {
    "ExecuteTime": {
     "end_time": "2019-01-27T12:25:45.596347Z",
     "start_time": "2019-01-27T12:25:45.513434Z"
    }
   },
   "outputs": [],
   "source": [
    "########################\n",
    "## OBTAINING PRODUCTS ##\n",
    "########################\n",
    "\n",
    "products = pd.read_csv(\"../0Data/products.csv\")\n",
    "#order_products_prior = pd.read_csv(\"order_products__prior.csv\")\n",
    "departments = pd.read_csv(\"../0Data/departments.csv\")\n",
    "#sample_submission = pd.read_csv(\"../input/sample_submission.csv\")\n",
    "#orders = pd.read_csv(\"../input/orders.csv\")\n",
    "aisles = pd.read_csv(\"../0Data/aisles.csv\")\n",
    "\n",
    "#order_products_train = pd.read_csv(\"../input/order_products__train.csv\")"
   ]
  },
  {
   "cell_type": "code",
   "execution_count": 8,
   "metadata": {
    "ExecuteTime": {
     "end_time": "2019-01-27T12:25:45.615709Z",
     "start_time": "2019-01-27T12:25:45.599869Z"
    }
   },
   "outputs": [],
   "source": [
    "prod_names = list(products['product_name'])"
   ]
  },
  {
   "cell_type": "code",
   "execution_count": 9,
   "metadata": {},
   "outputs": [
    {
     "data": {
      "text/html": [
       "<div>\n",
       "<style scoped>\n",
       "    .dataframe tbody tr th:only-of-type {\n",
       "        vertical-align: middle;\n",
       "    }\n",
       "\n",
       "    .dataframe tbody tr th {\n",
       "        vertical-align: top;\n",
       "    }\n",
       "\n",
       "    .dataframe thead th {\n",
       "        text-align: right;\n",
       "    }\n",
       "</style>\n",
       "<table border=\"1\" class=\"dataframe\">\n",
       "  <thead>\n",
       "    <tr style=\"text-align: right;\">\n",
       "      <th></th>\n",
       "      <th>department_id</th>\n",
       "      <th>department</th>\n",
       "    </tr>\n",
       "  </thead>\n",
       "  <tbody>\n",
       "    <tr>\n",
       "      <th>0</th>\n",
       "      <td>1</td>\n",
       "      <td>frozen</td>\n",
       "    </tr>\n",
       "    <tr>\n",
       "      <th>1</th>\n",
       "      <td>2</td>\n",
       "      <td>other</td>\n",
       "    </tr>\n",
       "    <tr>\n",
       "      <th>2</th>\n",
       "      <td>3</td>\n",
       "      <td>bakery</td>\n",
       "    </tr>\n",
       "    <tr>\n",
       "      <th>3</th>\n",
       "      <td>4</td>\n",
       "      <td>produce</td>\n",
       "    </tr>\n",
       "    <tr>\n",
       "      <th>4</th>\n",
       "      <td>5</td>\n",
       "      <td>alcohol</td>\n",
       "    </tr>\n",
       "  </tbody>\n",
       "</table>\n",
       "</div>"
      ],
      "text/plain": [
       "   department_id department\n",
       "0              1     frozen\n",
       "1              2      other\n",
       "2              3     bakery\n",
       "3              4    produce\n",
       "4              5    alcohol"
      ]
     },
     "execution_count": 9,
     "metadata": {},
     "output_type": "execute_result"
    }
   ],
   "source": [
    "products.head()\n",
    "departments.head()"
   ]
  },
  {
   "cell_type": "code",
   "execution_count": 10,
   "metadata": {},
   "outputs": [],
   "source": [
    "enriched_prods = pd.merge(products, departments, on=\"department_id\")\n",
    "enriched_prods = pd.merge(enriched_prods, aisles, on=\"aisle_id\")\n",
    "#enriched_prods.drop(['department_id', 'aisle_id'], inplace=True, axis=1)"
   ]
  },
  {
   "cell_type": "code",
   "execution_count": 11,
   "metadata": {},
   "outputs": [],
   "source": [
    "prods_in = enriched_prods.sample(n=3000)"
   ]
  },
  {
   "cell_type": "code",
   "execution_count": 12,
   "metadata": {
    "ExecuteTime": {
     "end_time": "2019-01-27T12:25:45.945565Z",
     "start_time": "2019-01-27T12:25:45.619459Z"
    },
    "scrolled": true
   },
   "outputs": [],
   "source": [
    "prods_in['product_desc'] = prods_in['product_name'].str.lower()\n",
    "prods_in['product_name'] = prods_in['product_name'].str.lower()\n",
    "prods_in['product_name'] = prods_in['product_name'].str.replace('\\W', ' ')\n",
    "prods_in['product_name'] = prods_in['product_name'].str.split()\n",
    "#prods_in['product_name']"
   ]
  },
  {
   "cell_type": "code",
   "execution_count": 13,
   "metadata": {},
   "outputs": [],
   "source": [
    "for i, line in enumerate(list(prods_in['product_name'])):\n",
    "    line.append(list(prods_in['department'].astype(str))[i])\n",
    "    line.append(list(prods_in['aisle'].astype(str))[i])"
   ]
  },
  {
   "cell_type": "markdown",
   "metadata": {},
   "source": [
    "# W2VEC MODEL"
   ]
  },
  {
   "cell_type": "code",
   "execution_count": 15,
   "metadata": {
    "ExecuteTime": {
     "end_time": "2019-01-27T12:25:48.103515Z",
     "start_time": "2019-01-27T12:25:45.947920Z"
    }
   },
   "outputs": [
    {
     "name": "stdout",
     "output_type": "stream",
     "text": [
      "Word2Vec(vocab=3140, size=100, alpha=0.025)\n"
     ]
    }
   ],
   "source": [
    "from gensim.models import Word2Vec\n",
    "# define training data\n",
    "sentences_da = list(prods_in['product_name'])\n",
    "# train model\n",
    "model = Word2Vec(sentences_da, size=100, window=5, min_count=1, workers=4)\n",
    "# save model\n",
    "model.save('model.bin')\n",
    "# load model\n",
    "new_model = Word2Vec.load('model.bin')\n",
    "print(new_model)"
   ]
  },
  {
   "cell_type": "code",
   "execution_count": 16,
   "metadata": {},
   "outputs": [
    {
     "name": "stderr",
     "output_type": "stream",
     "text": [
      "/home/gonz/.local/lib/python3.6/site-packages/ipykernel_launcher.py:6: DeprecationWarning: Call to deprecated `__getitem__` (Method will be removed in 4.0.0, use self.wv.__getitem__() instead).\n",
      "  \n"
     ]
    }
   ],
   "source": [
    "#construct DF\n",
    "\n",
    "prod_word = dict()\n",
    "\n",
    "for w in new_model.wv.vocab:\n",
    "    prod_word[w] = model[w]"
   ]
  },
  {
   "cell_type": "code",
   "execution_count": 17,
   "metadata": {
    "ExecuteTime": {
     "end_time": "2019-01-27T12:26:07.134686Z",
     "start_time": "2019-01-27T12:26:07.114400Z"
    }
   },
   "outputs": [],
   "source": [
    "prods_w2v = dict()\n",
    "for j, product in enumerate(prods_in['product_name']):\n",
    "    word_vector = list()\n",
    "    i = 0\n",
    "    for word in product:\n",
    "        i +=1\n",
    "        word_vector.append(prod_word[word])\n",
    "\n",
    "    prods_w2v[list(prods_in['product_desc'])[j]] = np.average(word_vector, axis=0)\n",
    "        "
   ]
  },
  {
   "cell_type": "markdown",
   "metadata": {
    "ExecuteTime": {
     "end_time": "2019-01-27T12:11:08.383606Z",
     "start_time": "2019-01-27T12:10:59.005295Z"
    }
   },
   "source": [
    "vocab = list(products['product_name'])\n",
    "vectors = list()\n",
    "for i in tqdm(list(products['product_name'])):\n",
    "    vectors.append(model.infer_vector(i))"
   ]
  },
  {
   "cell_type": "markdown",
   "metadata": {},
   "source": [
    "# TSNE PAINTING"
   ]
  },
  {
   "cell_type": "code",
   "execution_count": 18,
   "metadata": {},
   "outputs": [],
   "source": [
    "w2vec_tsne = list(prods_w2v.values())[:300]\n",
    "sentences = list(prods_w2v.keys())[:300]"
   ]
  },
  {
   "cell_type": "code",
   "execution_count": 19,
   "metadata": {},
   "outputs": [],
   "source": [
    "from sklearn.manifold import TSNE\n",
    "import matplotlib.pyplot as plt\n",
    "%matplotlib inline"
   ]
  },
  {
   "cell_type": "code",
   "execution_count": 20,
   "metadata": {},
   "outputs": [],
   "source": [
    "tsne_model = TSNE(perplexity=30, n_components=2, init='pca', n_iter=3500, random_state=23)\n",
    "new_values = tsne_model.fit_transform(w2vec_tsne)"
   ]
  },
  {
   "cell_type": "code",
   "execution_count": 21,
   "metadata": {},
   "outputs": [],
   "source": [
    "x = list()\n",
    "y = list()\n",
    "for i in range(new_values.shape[0]):\n",
    "    x.append(new_values[i][0])\n",
    "    y.append(new_values[i][1])"
   ]
  },
  {
   "cell_type": "code",
   "execution_count": 22,
   "metadata": {},
   "outputs": [
    {
     "name": "stderr",
     "output_type": "stream",
     "text": [
      "/home/gonz/.local/lib/python3.6/site-packages/plotly/offline/offline.py:635: UserWarning:\n",
      "\n",
      "Your filename `basic-scatter` didn't end with .html. Adding .html to the end of your file.\n",
      "\n"
     ]
    },
    {
     "data": {
      "text/plain": [
       "'file:///home/gonz/Documents/2Embeddings/basic-scatter.html'"
      ]
     },
     "execution_count": 22,
     "metadata": {},
     "output_type": "execute_result"
    }
   ],
   "source": [
    "import plotly.offline as pyo\n",
    "import plotly.graph_objs as go\n",
    "from plotly.tools import FigureFactory as FF\n",
    "%matplotlib inline\n",
    "from plotly.offline import download_plotlyjs, init_notebook_mode, plot, iplot\n",
    "\n",
    "# Create random data with numpy\n",
    "\n",
    "# Create a trace\n",
    "trace = go.Scatter(\n",
    "    x = x,\n",
    "    y = y,\n",
    "    mode = 'markers',\n",
    "    text = sentences,\n",
    "    hoverinfo = 'text',\n",
    "    marker=dict(color=list(prods_in['department_id']), colorscale='Viridis',),\n",
    ")\n",
    "\n",
    "data = [trace]\n",
    "\n",
    "# Plot and embed in ipython notebook!\n",
    "pyo.plot(data, filename='basic-scatter')\n",
    "\n",
    "# or plot with: plot_url = py.plot(data, filename='basic-line')"
   ]
  },
  {
   "cell_type": "code",
   "execution_count": 60,
   "metadata": {},
   "outputs": [
    {
     "data": {
      "text/plain": [
       "19    390\n",
       "11    384\n",
       "13    319\n",
       "1     271\n",
       "7     261\n",
       "16    210\n",
       "17    172\n",
       "15    128\n",
       "9     115\n",
       "4      99\n",
       "3      91\n",
       "20     82\n",
       "21     73\n",
       "12     67\n",
       "6      67\n",
       "18     63\n",
       "8      59\n",
       "5      58\n",
       "14     57\n",
       "2      31\n",
       "10      3\n",
       "Name: department_id, dtype: int64"
      ]
     },
     "execution_count": 60,
     "metadata": {},
     "output_type": "execute_result"
    }
   ],
   "source": [
    "prods_in['department_id'][:3000].value_counts()"
   ]
  },
  {
   "cell_type": "code",
   "execution_count": 42,
   "metadata": {},
   "outputs": [
    {
     "data": {
      "text/html": [
       "<div>\n",
       "<style scoped>\n",
       "    .dataframe tbody tr th:only-of-type {\n",
       "        vertical-align: middle;\n",
       "    }\n",
       "\n",
       "    .dataframe tbody tr th {\n",
       "        vertical-align: top;\n",
       "    }\n",
       "\n",
       "    .dataframe thead th {\n",
       "        text-align: right;\n",
       "    }\n",
       "</style>\n",
       "<table border=\"1\" class=\"dataframe\">\n",
       "  <thead>\n",
       "    <tr style=\"text-align: right;\">\n",
       "      <th></th>\n",
       "      <th>product_id</th>\n",
       "      <th>product_name</th>\n",
       "      <th>aisle_id</th>\n",
       "      <th>department_id</th>\n",
       "      <th>department</th>\n",
       "      <th>aisle</th>\n",
       "      <th>product_desc</th>\n",
       "    </tr>\n",
       "  </thead>\n",
       "  <tbody>\n",
       "    <tr>\n",
       "      <th>1834</th>\n",
       "      <td>2302</td>\n",
       "      <td>[cheddar, roasted, tomato, baked, potato, chip...</td>\n",
       "      <td>107</td>\n",
       "      <td>19</td>\n",
       "      <td>snacks</td>\n",
       "      <td>chips pretzels</td>\n",
       "      <td>cheddar + roasted tomato baked potato chips</td>\n",
       "    </tr>\n",
       "    <tr>\n",
       "      <th>42969</th>\n",
       "      <td>7025</td>\n",
       "      <td>[special, k, nourish, chewy, nut, bars, chocol...</td>\n",
       "      <td>100</td>\n",
       "      <td>21</td>\n",
       "      <td>missing</td>\n",
       "      <td>missing</td>\n",
       "      <td>special k nourish chewy nut bars chocolate coc...</td>\n",
       "    </tr>\n",
       "    <tr>\n",
       "      <th>46497</th>\n",
       "      <td>38694</td>\n",
       "      <td>[bbq, chopped, salad, deli, prepared soups sal...</td>\n",
       "      <td>1</td>\n",
       "      <td>20</td>\n",
       "      <td>deli</td>\n",
       "      <td>prepared soups salads</td>\n",
       "      <td>bbq chopped salad</td>\n",
       "    </tr>\n",
       "    <tr>\n",
       "      <th>85</th>\n",
       "      <td>4457</td>\n",
       "      <td>[double, chocolate, happiness, cookies, snacks...</td>\n",
       "      <td>61</td>\n",
       "      <td>19</td>\n",
       "      <td>snacks</td>\n",
       "      <td>cookies cakes</td>\n",
       "      <td>double chocolate happiness cookies</td>\n",
       "    </tr>\n",
       "    <tr>\n",
       "      <th>18250</th>\n",
       "      <td>12032</td>\n",
       "      <td>[coconut, milk, inon, dairy, frozen, dessert, ...</td>\n",
       "      <td>37</td>\n",
       "      <td>1</td>\n",
       "      <td>frozen</td>\n",
       "      <td>ice cream ice</td>\n",
       "      <td>coconut milk inon dairy frozen dessert coconut</td>\n",
       "    </tr>\n",
       "    <tr>\n",
       "      <th>9997</th>\n",
       "      <td>20720</td>\n",
       "      <td>[bear, clover, premium, honey, pantry, honeys ...</td>\n",
       "      <td>29</td>\n",
       "      <td>13</td>\n",
       "      <td>pantry</td>\n",
       "      <td>honeys syrups nectars</td>\n",
       "      <td>bear clover premium honey</td>\n",
       "    </tr>\n",
       "    <tr>\n",
       "      <th>43151</th>\n",
       "      <td>13270</td>\n",
       "      <td>[frosted, flakes, marshmallow, missing, missing]</td>\n",
       "      <td>100</td>\n",
       "      <td>21</td>\n",
       "      <td>missing</td>\n",
       "      <td>missing</td>\n",
       "      <td>frosted flakes, marshmallow</td>\n",
       "    </tr>\n",
       "    <tr>\n",
       "      <th>45834</th>\n",
       "      <td>15586</td>\n",
       "      <td>[roasted, chicken, deli, prepared meals]</td>\n",
       "      <td>13</td>\n",
       "      <td>20</td>\n",
       "      <td>deli</td>\n",
       "      <td>prepared meals</td>\n",
       "      <td>roasted chicken</td>\n",
       "    </tr>\n",
       "    <tr>\n",
       "      <th>1258</th>\n",
       "      <td>16812</td>\n",
       "      <td>[chocolate, peanut, butter, crisp, energy, bar...</td>\n",
       "      <td>3</td>\n",
       "      <td>19</td>\n",
       "      <td>snacks</td>\n",
       "      <td>energy granola bars</td>\n",
       "      <td>chocolate peanut butter crisp energy bar</td>\n",
       "    </tr>\n",
       "    <tr>\n",
       "      <th>15596</th>\n",
       "      <td>29140</td>\n",
       "      <td>[coke, life, beverages, soft drinks]</td>\n",
       "      <td>77</td>\n",
       "      <td>7</td>\n",
       "      <td>beverages</td>\n",
       "      <td>soft drinks</td>\n",
       "      <td>coke life</td>\n",
       "    </tr>\n",
       "    <tr>\n",
       "      <th>36676</th>\n",
       "      <td>24975</td>\n",
       "      <td>[compleats, homestyle, chicken, alfredo, dry g...</td>\n",
       "      <td>4</td>\n",
       "      <td>9</td>\n",
       "      <td>dry goods pasta</td>\n",
       "      <td>instant foods</td>\n",
       "      <td>compleats homestyle chicken alfredo</td>\n",
       "    </tr>\n",
       "    <tr>\n",
       "      <th>3320</th>\n",
       "      <td>35683</td>\n",
       "      <td>[lunchables, turkey, cheddar, cracker, stacker...</td>\n",
       "      <td>78</td>\n",
       "      <td>19</td>\n",
       "      <td>snacks</td>\n",
       "      <td>crackers</td>\n",
       "      <td>lunchables turkey cheddar cracker stackers</td>\n",
       "    </tr>\n",
       "    <tr>\n",
       "      <th>5592</th>\n",
       "      <td>43721</td>\n",
       "      <td>[wint, o, green, snacks, mint gum]</td>\n",
       "      <td>46</td>\n",
       "      <td>19</td>\n",
       "      <td>snacks</td>\n",
       "      <td>mint gum</td>\n",
       "      <td>wint-o-green</td>\n",
       "    </tr>\n",
       "    <tr>\n",
       "      <th>22922</th>\n",
       "      <td>22704</td>\n",
       "      <td>[pro, series, ruffled, ponytail, bands, person...</td>\n",
       "      <td>22</td>\n",
       "      <td>11</td>\n",
       "      <td>personal care</td>\n",
       "      <td>hair care</td>\n",
       "      <td>pro series ruffled ponytail bands</td>\n",
       "    </tr>\n",
       "    <tr>\n",
       "      <th>6850</th>\n",
       "      <td>37706</td>\n",
       "      <td>[ground, mace, pantry, spices seasonings]</td>\n",
       "      <td>104</td>\n",
       "      <td>13</td>\n",
       "      <td>pantry</td>\n",
       "      <td>spices seasonings</td>\n",
       "      <td>ground mace</td>\n",
       "    </tr>\n",
       "    <tr>\n",
       "      <th>24225</th>\n",
       "      <td>41986</td>\n",
       "      <td>[triple, antibiotic, ointment, personal care, ...</td>\n",
       "      <td>118</td>\n",
       "      <td>11</td>\n",
       "      <td>personal care</td>\n",
       "      <td>first aid</td>\n",
       "      <td>triple antibiotic ointment</td>\n",
       "    </tr>\n",
       "    <tr>\n",
       "      <th>36520</th>\n",
       "      <td>11666</td>\n",
       "      <td>[brown, jasmine, rice, dry goods pasta, instan...</td>\n",
       "      <td>4</td>\n",
       "      <td>9</td>\n",
       "      <td>dry goods pasta</td>\n",
       "      <td>instant foods</td>\n",
       "      <td>brown jasmine rice</td>\n",
       "    </tr>\n",
       "    <tr>\n",
       "      <th>23426</th>\n",
       "      <td>13177</td>\n",
       "      <td>[warrior, blend, vanilla, dietary, supplement,...</td>\n",
       "      <td>65</td>\n",
       "      <td>11</td>\n",
       "      <td>personal care</td>\n",
       "      <td>protein meal replacements</td>\n",
       "      <td>warrior blend vanilla dietary supplement</td>\n",
       "    </tr>\n",
       "    <tr>\n",
       "      <th>28379</th>\n",
       "      <td>28321</td>\n",
       "      <td>[sharp, cheddar, jack, cheese, slices, dairy e...</td>\n",
       "      <td>21</td>\n",
       "      <td>16</td>\n",
       "      <td>dairy eggs</td>\n",
       "      <td>packaged cheese</td>\n",
       "      <td>sharp cheddar-jack cheese slices</td>\n",
       "    </tr>\n",
       "    <tr>\n",
       "      <th>18656</th>\n",
       "      <td>30306</td>\n",
       "      <td>[sea, salt, caramel, ice, cream, frozen, ice c...</td>\n",
       "      <td>37</td>\n",
       "      <td>1</td>\n",
       "      <td>frozen</td>\n",
       "      <td>ice cream ice</td>\n",
       "      <td>sea salt caramel ice cream</td>\n",
       "    </tr>\n",
       "    <tr>\n",
       "      <th>45306</th>\n",
       "      <td>31155</td>\n",
       "      <td>[tofu, ground, beef, deli, tofu meat alternati...</td>\n",
       "      <td>14</td>\n",
       "      <td>20</td>\n",
       "      <td>deli</td>\n",
       "      <td>tofu meat alternatives</td>\n",
       "      <td>tofu ground beef</td>\n",
       "    </tr>\n",
       "    <tr>\n",
       "      <th>20458</th>\n",
       "      <td>1906</td>\n",
       "      <td>[toothpaste, fluoride, free, propolis, myrrh, ...</td>\n",
       "      <td>20</td>\n",
       "      <td>11</td>\n",
       "      <td>personal care</td>\n",
       "      <td>oral hygiene</td>\n",
       "      <td>toothpaste, fluoride-free, propolis &amp; myrrh, f...</td>\n",
       "    </tr>\n",
       "    <tr>\n",
       "      <th>23633</th>\n",
       "      <td>42157</td>\n",
       "      <td>[plus, rich, chocolate, complete, nutritional,...</td>\n",
       "      <td>65</td>\n",
       "      <td>11</td>\n",
       "      <td>personal care</td>\n",
       "      <td>protein meal replacements</td>\n",
       "      <td>plus rich chocolate complete nutritional drink</td>\n",
       "    </tr>\n",
       "    <tr>\n",
       "      <th>48419</th>\n",
       "      <td>7858</td>\n",
       "      <td>[cinnamon, sugar, donut, holes, bakery, breakf...</td>\n",
       "      <td>93</td>\n",
       "      <td>3</td>\n",
       "      <td>bakery</td>\n",
       "      <td>breakfast bakery</td>\n",
       "      <td>cinnamon sugar donut holes</td>\n",
       "    </tr>\n",
       "    <tr>\n",
       "      <th>18724</th>\n",
       "      <td>33847</td>\n",
       "      <td>[cookies, and, cream, ice, cream, frozen, ice ...</td>\n",
       "      <td>37</td>\n",
       "      <td>1</td>\n",
       "      <td>frozen</td>\n",
       "      <td>ice cream ice</td>\n",
       "      <td>cookies and cream ice cream</td>\n",
       "    </tr>\n",
       "    <tr>\n",
       "      <th>31873</th>\n",
       "      <td>31530</td>\n",
       "      <td>[disinfecting, toilet, bowl, cleaner, househol...</td>\n",
       "      <td>114</td>\n",
       "      <td>17</td>\n",
       "      <td>household</td>\n",
       "      <td>cleaning products</td>\n",
       "      <td>disinfecting toilet bowl cleaner</td>\n",
       "    </tr>\n",
       "    <tr>\n",
       "      <th>13939</th>\n",
       "      <td>19702</td>\n",
       "      <td>[original, black, tea, brew, kombucha, beverag...</td>\n",
       "      <td>31</td>\n",
       "      <td>7</td>\n",
       "      <td>beverages</td>\n",
       "      <td>refrigerated</td>\n",
       "      <td>original black tea brew kombucha</td>\n",
       "    </tr>\n",
       "    <tr>\n",
       "      <th>22903</th>\n",
       "      <td>21733</td>\n",
       "      <td>[men, care, fortifying, styling, paste, person...</td>\n",
       "      <td>22</td>\n",
       "      <td>11</td>\n",
       "      <td>personal care</td>\n",
       "      <td>hair care</td>\n",
       "      <td>men + care fortifying styling paste</td>\n",
       "    </tr>\n",
       "    <tr>\n",
       "      <th>5691</th>\n",
       "      <td>6262</td>\n",
       "      <td>[pomegranate, dried, cranberries, snacks, nuts...</td>\n",
       "      <td>117</td>\n",
       "      <td>19</td>\n",
       "      <td>snacks</td>\n",
       "      <td>nuts seeds dried fruit</td>\n",
       "      <td>pomegranate dried cranberries</td>\n",
       "    </tr>\n",
       "    <tr>\n",
       "      <th>42679</th>\n",
       "      <td>48516</td>\n",
       "      <td>[pear, packham, produce, fresh fruits]</td>\n",
       "      <td>24</td>\n",
       "      <td>4</td>\n",
       "      <td>produce</td>\n",
       "      <td>fresh fruits</td>\n",
       "      <td>pear packham</td>\n",
       "    </tr>\n",
       "    <tr>\n",
       "      <th>...</th>\n",
       "      <td>...</td>\n",
       "      <td>...</td>\n",
       "      <td>...</td>\n",
       "      <td>...</td>\n",
       "      <td>...</td>\n",
       "      <td>...</td>\n",
       "      <td>...</td>\n",
       "    </tr>\n",
       "    <tr>\n",
       "      <th>15930</th>\n",
       "      <td>33584</td>\n",
       "      <td>[sunrise, classic, orange, drink, mix, pitcher...</td>\n",
       "      <td>90</td>\n",
       "      <td>7</td>\n",
       "      <td>beverages</td>\n",
       "      <td>cocoa drink mixes</td>\n",
       "      <td>sunrise classic orange drink mix pitcher packs</td>\n",
       "    </tr>\n",
       "    <tr>\n",
       "      <th>39275</th>\n",
       "      <td>22651</td>\n",
       "      <td>[whole, asparagus, spears, canned goods, canne...</td>\n",
       "      <td>81</td>\n",
       "      <td>15</td>\n",
       "      <td>canned goods</td>\n",
       "      <td>canned jarred vegetables</td>\n",
       "      <td>whole asparagus spears</td>\n",
       "    </tr>\n",
       "    <tr>\n",
       "      <th>23070</th>\n",
       "      <td>32322</td>\n",
       "      <td>[shine, anti, frizz, serum, for, frizzy, dry, ...</td>\n",
       "      <td>22</td>\n",
       "      <td>11</td>\n",
       "      <td>personal care</td>\n",
       "      <td>hair care</td>\n",
       "      <td>shine anti-frizz serum for frizzy, dry, unmana...</td>\n",
       "    </tr>\n",
       "    <tr>\n",
       "      <th>5741</th>\n",
       "      <td>10958</td>\n",
       "      <td>[go, white, chia, organic, seeds, snacks, nuts...</td>\n",
       "      <td>117</td>\n",
       "      <td>19</td>\n",
       "      <td>snacks</td>\n",
       "      <td>nuts seeds dried fruit</td>\n",
       "      <td>go  white chia! organic seeds</td>\n",
       "    </tr>\n",
       "    <tr>\n",
       "      <th>4023</th>\n",
       "      <td>25217</td>\n",
       "      <td>[cinnamon, crunch, sunflower, seed, bites, sna...</td>\n",
       "      <td>50</td>\n",
       "      <td>19</td>\n",
       "      <td>snacks</td>\n",
       "      <td>fruit vegetable snacks</td>\n",
       "      <td>cinnamon crunch sunflower seed bites</td>\n",
       "    </tr>\n",
       "    <tr>\n",
       "      <th>38582</th>\n",
       "      <td>35156</td>\n",
       "      <td>[oat, revolution, maple, brown, sugar, instant...</td>\n",
       "      <td>130</td>\n",
       "      <td>14</td>\n",
       "      <td>breakfast</td>\n",
       "      <td>hot cereal pancake mixes</td>\n",
       "      <td>oat revolution! maple &amp; brown sugar instant oa...</td>\n",
       "    </tr>\n",
       "    <tr>\n",
       "      <th>18129</th>\n",
       "      <td>6082</td>\n",
       "      <td>[artisan, ginger, molasses, cookie, ice, cream...</td>\n",
       "      <td>37</td>\n",
       "      <td>1</td>\n",
       "      <td>frozen</td>\n",
       "      <td>ice cream ice</td>\n",
       "      <td>artisan ginger molasses cookie ice cream</td>\n",
       "    </tr>\n",
       "    <tr>\n",
       "      <th>28304</th>\n",
       "      <td>25067</td>\n",
       "      <td>[lactose, free, cheesy, bliss, american, style...</td>\n",
       "      <td>21</td>\n",
       "      <td>16</td>\n",
       "      <td>dairy eggs</td>\n",
       "      <td>packaged cheese</td>\n",
       "      <td>lactose free cheesy bliss american style singles</td>\n",
       "    </tr>\n",
       "    <tr>\n",
       "      <th>40124</th>\n",
       "      <td>38271</td>\n",
       "      <td>[light, chicken, pot, pie, style, soup, canned...</td>\n",
       "      <td>69</td>\n",
       "      <td>15</td>\n",
       "      <td>canned goods</td>\n",
       "      <td>soup broth bouillon</td>\n",
       "      <td>light chicken pot pie style soup</td>\n",
       "    </tr>\n",
       "    <tr>\n",
       "      <th>6560</th>\n",
       "      <td>19331</td>\n",
       "      <td>[whole, mediterranean, bay, leaves, pantry, sp...</td>\n",
       "      <td>104</td>\n",
       "      <td>13</td>\n",
       "      <td>pantry</td>\n",
       "      <td>spices seasonings</td>\n",
       "      <td>whole mediterranean bay leaves</td>\n",
       "    </tr>\n",
       "    <tr>\n",
       "      <th>32131</th>\n",
       "      <td>3904</td>\n",
       "      <td>[soft, works, pop, container, household, food ...</td>\n",
       "      <td>85</td>\n",
       "      <td>17</td>\n",
       "      <td>household</td>\n",
       "      <td>food storage</td>\n",
       "      <td>soft works pop container</td>\n",
       "    </tr>\n",
       "    <tr>\n",
       "      <th>14128</th>\n",
       "      <td>33222</td>\n",
       "      <td>[lemonade, with, mango, beverages, refrigerated]</td>\n",
       "      <td>31</td>\n",
       "      <td>7</td>\n",
       "      <td>beverages</td>\n",
       "      <td>refrigerated</td>\n",
       "      <td>lemonade with mango</td>\n",
       "    </tr>\n",
       "    <tr>\n",
       "      <th>21044</th>\n",
       "      <td>2059</td>\n",
       "      <td>[biotin, 1000, mcg, personal care, vitamins su...</td>\n",
       "      <td>47</td>\n",
       "      <td>11</td>\n",
       "      <td>personal care</td>\n",
       "      <td>vitamins supplements</td>\n",
       "      <td>biotin 1000 mcg</td>\n",
       "    </tr>\n",
       "    <tr>\n",
       "      <th>30405</th>\n",
       "      <td>29332</td>\n",
       "      <td>[combination, padlock, household, more household]</td>\n",
       "      <td>87</td>\n",
       "      <td>17</td>\n",
       "      <td>household</td>\n",
       "      <td>more household</td>\n",
       "      <td>combination padlock</td>\n",
       "    </tr>\n",
       "    <tr>\n",
       "      <th>36479</th>\n",
       "      <td>7897</td>\n",
       "      <td>[ultimate, creamy, stroganoff, hamburger, help...</td>\n",
       "      <td>4</td>\n",
       "      <td>9</td>\n",
       "      <td>dry goods pasta</td>\n",
       "      <td>instant foods</td>\n",
       "      <td>ultimate creamy stroganoff hamburger helper</td>\n",
       "    </tr>\n",
       "    <tr>\n",
       "      <th>19034</th>\n",
       "      <td>47184</td>\n",
       "      <td>[pineapple, sherbet, frozen, ice cream ice]</td>\n",
       "      <td>37</td>\n",
       "      <td>1</td>\n",
       "      <td>frozen</td>\n",
       "      <td>ice cream ice</td>\n",
       "      <td>pineapple sherbet</td>\n",
       "    </tr>\n",
       "    <tr>\n",
       "      <th>26625</th>\n",
       "      <td>2668</td>\n",
       "      <td>[whips, strawberry, mist, yogurt, mousse, dair...</td>\n",
       "      <td>120</td>\n",
       "      <td>16</td>\n",
       "      <td>dairy eggs</td>\n",
       "      <td>yogurt</td>\n",
       "      <td>whips! strawberry mist yogurt mousse</td>\n",
       "    </tr>\n",
       "    <tr>\n",
       "      <th>21145</th>\n",
       "      <td>6764</td>\n",
       "      <td>[original, vegetarian, formula, papaya, enzyme...</td>\n",
       "      <td>47</td>\n",
       "      <td>11</td>\n",
       "      <td>personal care</td>\n",
       "      <td>vitamins supplements</td>\n",
       "      <td>original vegetarian formula papaya enzyme chew...</td>\n",
       "    </tr>\n",
       "    <tr>\n",
       "      <th>2359</th>\n",
       "      <td>29870</td>\n",
       "      <td>[popped, gluten, free, caramel, corn, rice, cr...</td>\n",
       "      <td>107</td>\n",
       "      <td>19</td>\n",
       "      <td>snacks</td>\n",
       "      <td>chips pretzels</td>\n",
       "      <td>popped gluten free caramel corn rice crisps</td>\n",
       "    </tr>\n",
       "    <tr>\n",
       "      <th>18033</th>\n",
       "      <td>1752</td>\n",
       "      <td>[mango, sorbet, frozen, ice cream ice]</td>\n",
       "      <td>37</td>\n",
       "      <td>1</td>\n",
       "      <td>frozen</td>\n",
       "      <td>ice cream ice</td>\n",
       "      <td>mango sorbet</td>\n",
       "    </tr>\n",
       "    <tr>\n",
       "      <th>9281</th>\n",
       "      <td>38847</td>\n",
       "      <td>[organic, whole, kernel, unrefined, coconut, o...</td>\n",
       "      <td>19</td>\n",
       "      <td>13</td>\n",
       "      <td>pantry</td>\n",
       "      <td>oils vinegars</td>\n",
       "      <td>organic whole kernel unrefined coconut oil</td>\n",
       "    </tr>\n",
       "    <tr>\n",
       "      <th>20069</th>\n",
       "      <td>7182</td>\n",
       "      <td>[nasal, allergy, relief, nasal, mist, personal...</td>\n",
       "      <td>11</td>\n",
       "      <td>11</td>\n",
       "      <td>personal care</td>\n",
       "      <td>cold flu allergy</td>\n",
       "      <td>nasal allergy relief nasal mist</td>\n",
       "    </tr>\n",
       "    <tr>\n",
       "      <th>37865</th>\n",
       "      <td>44231</td>\n",
       "      <td>[white, meat, chicken, tuna, recipe, cat, food...</td>\n",
       "      <td>41</td>\n",
       "      <td>8</td>\n",
       "      <td>pets</td>\n",
       "      <td>cat food care</td>\n",
       "      <td>white meat chicken &amp; tuna recipe cat food</td>\n",
       "    </tr>\n",
       "    <tr>\n",
       "      <th>34475</th>\n",
       "      <td>14814</td>\n",
       "      <td>[gluteen, free, center, cut, applewood, smoked...</td>\n",
       "      <td>106</td>\n",
       "      <td>12</td>\n",
       "      <td>meat seafood</td>\n",
       "      <td>hot dogs bacon sausage</td>\n",
       "      <td>gluteen free center cut applewood smoked uncur...</td>\n",
       "    </tr>\n",
       "    <tr>\n",
       "      <th>35261</th>\n",
       "      <td>27585</td>\n",
       "      <td>[couscous, tri, color, dry goods pasta, grains...</td>\n",
       "      <td>63</td>\n",
       "      <td>9</td>\n",
       "      <td>dry goods pasta</td>\n",
       "      <td>grains rice dried goods</td>\n",
       "      <td>couscous tri-color</td>\n",
       "    </tr>\n",
       "    <tr>\n",
       "      <th>27503</th>\n",
       "      <td>45544</td>\n",
       "      <td>[organic, plain, nonfat, greek, yogurt, dairy ...</td>\n",
       "      <td>120</td>\n",
       "      <td>16</td>\n",
       "      <td>dairy eggs</td>\n",
       "      <td>yogurt</td>\n",
       "      <td>organic plain nonfat greek yogurt</td>\n",
       "    </tr>\n",
       "    <tr>\n",
       "      <th>35600</th>\n",
       "      <td>18541</td>\n",
       "      <td>[gluten, free, corn, rice, quinoa, penne, riga...</td>\n",
       "      <td>131</td>\n",
       "      <td>9</td>\n",
       "      <td>dry goods pasta</td>\n",
       "      <td>dry pasta</td>\n",
       "      <td>gluten free corn, rice &amp; quinoa penne rigate</td>\n",
       "    </tr>\n",
       "    <tr>\n",
       "      <th>12291</th>\n",
       "      <td>36638</td>\n",
       "      <td>[scottish, breakfast, tea, beverages, tea]</td>\n",
       "      <td>94</td>\n",
       "      <td>7</td>\n",
       "      <td>beverages</td>\n",
       "      <td>tea</td>\n",
       "      <td>scottish breakfast tea</td>\n",
       "    </tr>\n",
       "    <tr>\n",
       "      <th>822</th>\n",
       "      <td>46536</td>\n",
       "      <td>[crispy, windmill, cookies, snacks, cookies ca...</td>\n",
       "      <td>61</td>\n",
       "      <td>19</td>\n",
       "      <td>snacks</td>\n",
       "      <td>cookies cakes</td>\n",
       "      <td>crispy windmill cookies</td>\n",
       "    </tr>\n",
       "    <tr>\n",
       "      <th>45796</th>\n",
       "      <td>8402</td>\n",
       "      <td>[organic, mashed, potatoes, deli, prepared meals]</td>\n",
       "      <td>13</td>\n",
       "      <td>20</td>\n",
       "      <td>deli</td>\n",
       "      <td>prepared meals</td>\n",
       "      <td>organic mashed potatoes</td>\n",
       "    </tr>\n",
       "  </tbody>\n",
       "</table>\n",
       "<p>3000 rows × 7 columns</p>\n",
       "</div>"
      ],
      "text/plain": [
       "       product_id                                       product_name  \\\n",
       "1834         2302  [cheddar, roasted, tomato, baked, potato, chip...   \n",
       "42969        7025  [special, k, nourish, chewy, nut, bars, chocol...   \n",
       "46497       38694  [bbq, chopped, salad, deli, prepared soups sal...   \n",
       "85           4457  [double, chocolate, happiness, cookies, snacks...   \n",
       "18250       12032  [coconut, milk, inon, dairy, frozen, dessert, ...   \n",
       "9997        20720  [bear, clover, premium, honey, pantry, honeys ...   \n",
       "43151       13270   [frosted, flakes, marshmallow, missing, missing]   \n",
       "45834       15586           [roasted, chicken, deli, prepared meals]   \n",
       "1258        16812  [chocolate, peanut, butter, crisp, energy, bar...   \n",
       "15596       29140               [coke, life, beverages, soft drinks]   \n",
       "36676       24975  [compleats, homestyle, chicken, alfredo, dry g...   \n",
       "3320        35683  [lunchables, turkey, cheddar, cracker, stacker...   \n",
       "5592        43721                 [wint, o, green, snacks, mint gum]   \n",
       "22922       22704  [pro, series, ruffled, ponytail, bands, person...   \n",
       "6850        37706          [ground, mace, pantry, spices seasonings]   \n",
       "24225       41986  [triple, antibiotic, ointment, personal care, ...   \n",
       "36520       11666  [brown, jasmine, rice, dry goods pasta, instan...   \n",
       "23426       13177  [warrior, blend, vanilla, dietary, supplement,...   \n",
       "28379       28321  [sharp, cheddar, jack, cheese, slices, dairy e...   \n",
       "18656       30306  [sea, salt, caramel, ice, cream, frozen, ice c...   \n",
       "45306       31155  [tofu, ground, beef, deli, tofu meat alternati...   \n",
       "20458        1906  [toothpaste, fluoride, free, propolis, myrrh, ...   \n",
       "23633       42157  [plus, rich, chocolate, complete, nutritional,...   \n",
       "48419        7858  [cinnamon, sugar, donut, holes, bakery, breakf...   \n",
       "18724       33847  [cookies, and, cream, ice, cream, frozen, ice ...   \n",
       "31873       31530  [disinfecting, toilet, bowl, cleaner, househol...   \n",
       "13939       19702  [original, black, tea, brew, kombucha, beverag...   \n",
       "22903       21733  [men, care, fortifying, styling, paste, person...   \n",
       "5691         6262  [pomegranate, dried, cranberries, snacks, nuts...   \n",
       "42679       48516             [pear, packham, produce, fresh fruits]   \n",
       "...           ...                                                ...   \n",
       "15930       33584  [sunrise, classic, orange, drink, mix, pitcher...   \n",
       "39275       22651  [whole, asparagus, spears, canned goods, canne...   \n",
       "23070       32322  [shine, anti, frizz, serum, for, frizzy, dry, ...   \n",
       "5741        10958  [go, white, chia, organic, seeds, snacks, nuts...   \n",
       "4023        25217  [cinnamon, crunch, sunflower, seed, bites, sna...   \n",
       "38582       35156  [oat, revolution, maple, brown, sugar, instant...   \n",
       "18129        6082  [artisan, ginger, molasses, cookie, ice, cream...   \n",
       "28304       25067  [lactose, free, cheesy, bliss, american, style...   \n",
       "40124       38271  [light, chicken, pot, pie, style, soup, canned...   \n",
       "6560        19331  [whole, mediterranean, bay, leaves, pantry, sp...   \n",
       "32131        3904  [soft, works, pop, container, household, food ...   \n",
       "14128       33222   [lemonade, with, mango, beverages, refrigerated]   \n",
       "21044        2059  [biotin, 1000, mcg, personal care, vitamins su...   \n",
       "30405       29332  [combination, padlock, household, more household]   \n",
       "36479        7897  [ultimate, creamy, stroganoff, hamburger, help...   \n",
       "19034       47184        [pineapple, sherbet, frozen, ice cream ice]   \n",
       "26625        2668  [whips, strawberry, mist, yogurt, mousse, dair...   \n",
       "21145        6764  [original, vegetarian, formula, papaya, enzyme...   \n",
       "2359        29870  [popped, gluten, free, caramel, corn, rice, cr...   \n",
       "18033        1752             [mango, sorbet, frozen, ice cream ice]   \n",
       "9281        38847  [organic, whole, kernel, unrefined, coconut, o...   \n",
       "20069        7182  [nasal, allergy, relief, nasal, mist, personal...   \n",
       "37865       44231  [white, meat, chicken, tuna, recipe, cat, food...   \n",
       "34475       14814  [gluteen, free, center, cut, applewood, smoked...   \n",
       "35261       27585  [couscous, tri, color, dry goods pasta, grains...   \n",
       "27503       45544  [organic, plain, nonfat, greek, yogurt, dairy ...   \n",
       "35600       18541  [gluten, free, corn, rice, quinoa, penne, riga...   \n",
       "12291       36638         [scottish, breakfast, tea, beverages, tea]   \n",
       "822         46536  [crispy, windmill, cookies, snacks, cookies ca...   \n",
       "45796        8402  [organic, mashed, potatoes, deli, prepared meals]   \n",
       "\n",
       "       aisle_id  department_id       department                      aisle  \\\n",
       "1834        107             19           snacks             chips pretzels   \n",
       "42969       100             21          missing                    missing   \n",
       "46497         1             20             deli      prepared soups salads   \n",
       "85           61             19           snacks              cookies cakes   \n",
       "18250        37              1           frozen              ice cream ice   \n",
       "9997         29             13           pantry      honeys syrups nectars   \n",
       "43151       100             21          missing                    missing   \n",
       "45834        13             20             deli             prepared meals   \n",
       "1258          3             19           snacks        energy granola bars   \n",
       "15596        77              7        beverages                soft drinks   \n",
       "36676         4              9  dry goods pasta              instant foods   \n",
       "3320         78             19           snacks                   crackers   \n",
       "5592         46             19           snacks                   mint gum   \n",
       "22922        22             11    personal care                  hair care   \n",
       "6850        104             13           pantry          spices seasonings   \n",
       "24225       118             11    personal care                  first aid   \n",
       "36520         4              9  dry goods pasta              instant foods   \n",
       "23426        65             11    personal care  protein meal replacements   \n",
       "28379        21             16       dairy eggs            packaged cheese   \n",
       "18656        37              1           frozen              ice cream ice   \n",
       "45306        14             20             deli     tofu meat alternatives   \n",
       "20458        20             11    personal care               oral hygiene   \n",
       "23633        65             11    personal care  protein meal replacements   \n",
       "48419        93              3           bakery           breakfast bakery   \n",
       "18724        37              1           frozen              ice cream ice   \n",
       "31873       114             17        household          cleaning products   \n",
       "13939        31              7        beverages               refrigerated   \n",
       "22903        22             11    personal care                  hair care   \n",
       "5691        117             19           snacks     nuts seeds dried fruit   \n",
       "42679        24              4          produce               fresh fruits   \n",
       "...         ...            ...              ...                        ...   \n",
       "15930        90              7        beverages          cocoa drink mixes   \n",
       "39275        81             15     canned goods   canned jarred vegetables   \n",
       "23070        22             11    personal care                  hair care   \n",
       "5741        117             19           snacks     nuts seeds dried fruit   \n",
       "4023         50             19           snacks     fruit vegetable snacks   \n",
       "38582       130             14        breakfast   hot cereal pancake mixes   \n",
       "18129        37              1           frozen              ice cream ice   \n",
       "28304        21             16       dairy eggs            packaged cheese   \n",
       "40124        69             15     canned goods        soup broth bouillon   \n",
       "6560        104             13           pantry          spices seasonings   \n",
       "32131        85             17        household               food storage   \n",
       "14128        31              7        beverages               refrigerated   \n",
       "21044        47             11    personal care       vitamins supplements   \n",
       "30405        87             17        household             more household   \n",
       "36479         4              9  dry goods pasta              instant foods   \n",
       "19034        37              1           frozen              ice cream ice   \n",
       "26625       120             16       dairy eggs                     yogurt   \n",
       "21145        47             11    personal care       vitamins supplements   \n",
       "2359        107             19           snacks             chips pretzels   \n",
       "18033        37              1           frozen              ice cream ice   \n",
       "9281         19             13           pantry              oils vinegars   \n",
       "20069        11             11    personal care           cold flu allergy   \n",
       "37865        41              8             pets              cat food care   \n",
       "34475       106             12     meat seafood     hot dogs bacon sausage   \n",
       "35261        63              9  dry goods pasta    grains rice dried goods   \n",
       "27503       120             16       dairy eggs                     yogurt   \n",
       "35600       131              9  dry goods pasta                  dry pasta   \n",
       "12291        94              7        beverages                        tea   \n",
       "822          61             19           snacks              cookies cakes   \n",
       "45796        13             20             deli             prepared meals   \n",
       "\n",
       "                                            product_desc  \n",
       "1834         cheddar + roasted tomato baked potato chips  \n",
       "42969  special k nourish chewy nut bars chocolate coc...  \n",
       "46497                                  bbq chopped salad  \n",
       "85                    double chocolate happiness cookies  \n",
       "18250     coconut milk inon dairy frozen dessert coconut  \n",
       "9997                           bear clover premium honey  \n",
       "43151                        frosted flakes, marshmallow  \n",
       "45834                                    roasted chicken  \n",
       "1258            chocolate peanut butter crisp energy bar  \n",
       "15596                                          coke life  \n",
       "36676                compleats homestyle chicken alfredo  \n",
       "3320          lunchables turkey cheddar cracker stackers  \n",
       "5592                                        wint-o-green  \n",
       "22922                  pro series ruffled ponytail bands  \n",
       "6850                                         ground mace  \n",
       "24225                         triple antibiotic ointment  \n",
       "36520                                 brown jasmine rice  \n",
       "23426           warrior blend vanilla dietary supplement  \n",
       "28379                   sharp cheddar-jack cheese slices  \n",
       "18656                         sea salt caramel ice cream  \n",
       "45306                                   tofu ground beef  \n",
       "20458  toothpaste, fluoride-free, propolis & myrrh, f...  \n",
       "23633     plus rich chocolate complete nutritional drink  \n",
       "48419                         cinnamon sugar donut holes  \n",
       "18724                        cookies and cream ice cream  \n",
       "31873                   disinfecting toilet bowl cleaner  \n",
       "13939                   original black tea brew kombucha  \n",
       "22903                men + care fortifying styling paste  \n",
       "5691                       pomegranate dried cranberries  \n",
       "42679                                       pear packham  \n",
       "...                                                  ...  \n",
       "15930     sunrise classic orange drink mix pitcher packs  \n",
       "39275                             whole asparagus spears  \n",
       "23070  shine anti-frizz serum for frizzy, dry, unmana...  \n",
       "5741                       go  white chia! organic seeds  \n",
       "4023                cinnamon crunch sunflower seed bites  \n",
       "38582  oat revolution! maple & brown sugar instant oa...  \n",
       "18129           artisan ginger molasses cookie ice cream  \n",
       "28304   lactose free cheesy bliss american style singles  \n",
       "40124                   light chicken pot pie style soup  \n",
       "6560                      whole mediterranean bay leaves  \n",
       "32131                           soft works pop container  \n",
       "14128                                lemonade with mango  \n",
       "21044                                    biotin 1000 mcg  \n",
       "30405                                combination padlock  \n",
       "36479        ultimate creamy stroganoff hamburger helper  \n",
       "19034                                  pineapple sherbet  \n",
       "26625               whips! strawberry mist yogurt mousse  \n",
       "21145  original vegetarian formula papaya enzyme chew...  \n",
       "2359         popped gluten free caramel corn rice crisps  \n",
       "18033                                       mango sorbet  \n",
       "9281          organic whole kernel unrefined coconut oil  \n",
       "20069                    nasal allergy relief nasal mist  \n",
       "37865          white meat chicken & tuna recipe cat food  \n",
       "34475  gluteen free center cut applewood smoked uncur...  \n",
       "35261                                 couscous tri-color  \n",
       "27503                  organic plain nonfat greek yogurt  \n",
       "35600       gluten free corn, rice & quinoa penne rigate  \n",
       "12291                             scottish breakfast tea  \n",
       "822                              crispy windmill cookies  \n",
       "45796                            organic mashed potatoes  \n",
       "\n",
       "[3000 rows x 7 columns]"
      ]
     },
     "execution_count": 42,
     "metadata": {},
     "output_type": "execute_result"
    }
   ],
   "source": [
    "prods_in"
   ]
  },
  {
   "cell_type": "markdown",
   "metadata": {},
   "source": [
    "# LDA "
   ]
  },
  {
   "cell_type": "code",
   "execution_count": 18,
   "metadata": {},
   "outputs": [],
   "source": [
    "from gensim import corpora, models\n",
    "\n",
    "texts = products['product_name'][:10000]\n",
    "dictionary = corpora.Dictionary(texts)\n",
    "corpus = [dictionary.doc2bow(text) for text in texts]"
   ]
  },
  {
   "cell_type": "code",
   "execution_count": 25,
   "metadata": {},
   "outputs": [
    {
     "name": "stderr",
     "output_type": "stream",
     "text": [
      "/home/gonz/.local/lib/python3.6/site-packages/gensim/models/ldamodel.py:1030: RuntimeWarning: divide by zero encountered in log\n",
      "  diff = np.log(self.expElogbeta)\n"
     ]
    }
   ],
   "source": [
    "lda = gensim.models.ldamodel.LdaModel(corpus, num_topics=100, id2word = dictionary, passes=20)"
   ]
  },
  {
   "cell_type": "code",
   "execution_count": 26,
   "metadata": {
    "collapsed": true
   },
   "outputs": [
    {
     "ename": "TypeError",
     "evalue": "Object of type 'complex' is not JSON serializable",
     "output_type": "error",
     "traceback": [
      "\u001b[0;31m---------------------------------------------------------------------------\u001b[0m",
      "\u001b[0;31mTypeError\u001b[0m                                 Traceback (most recent call last)",
      "\u001b[0;32m<ipython-input-26-b6784765f941>\u001b[0m in \u001b[0;36m<module>\u001b[0;34m\u001b[0m\n\u001b[1;32m      1\u001b[0m \u001b[0mlda_vis\u001b[0m \u001b[0;34m=\u001b[0m \u001b[0mpyLDAvis\u001b[0m\u001b[0;34m.\u001b[0m\u001b[0mgensim\u001b[0m\u001b[0;34m.\u001b[0m\u001b[0mprepare\u001b[0m\u001b[0;34m(\u001b[0m\u001b[0mlda\u001b[0m\u001b[0;34m,\u001b[0m \u001b[0mcorpus\u001b[0m\u001b[0;34m,\u001b[0m \u001b[0mdictionary\u001b[0m\u001b[0;34m)\u001b[0m\u001b[0;34m\u001b[0m\u001b[0;34m\u001b[0m\u001b[0m\n\u001b[0;32m----> 2\u001b[0;31m \u001b[0mpyLDAvis\u001b[0m\u001b[0;34m.\u001b[0m\u001b[0mdisplay\u001b[0m\u001b[0;34m(\u001b[0m\u001b[0mlda_vis\u001b[0m\u001b[0;34m)\u001b[0m\u001b[0;34m\u001b[0m\u001b[0;34m\u001b[0m\u001b[0m\n\u001b[0m",
      "\u001b[0;32m~/.local/lib/python3.6/site-packages/pyLDAvis/_display.py\u001b[0m in \u001b[0;36mdisplay\u001b[0;34m(data, local, **kwargs)\u001b[0m\n\u001b[1;32m    220\u001b[0m         \u001b[0mkwargs\u001b[0m\u001b[0;34m[\u001b[0m\u001b[0;34m'd3_url'\u001b[0m\u001b[0;34m]\u001b[0m\u001b[0;34m,\u001b[0m \u001b[0mkwargs\u001b[0m\u001b[0;34m[\u001b[0m\u001b[0;34m'ldavis_url'\u001b[0m\u001b[0;34m]\u001b[0m\u001b[0;34m,\u001b[0m \u001b[0mkwargs\u001b[0m\u001b[0;34m[\u001b[0m\u001b[0;34m'ldavis_css_url'\u001b[0m\u001b[0;34m]\u001b[0m \u001b[0;34m=\u001b[0m \u001b[0mwrite_ipynb_local_js\u001b[0m\u001b[0;34m(\u001b[0m\u001b[0;34m)\u001b[0m\u001b[0;34m\u001b[0m\u001b[0;34m\u001b[0m\u001b[0m\n\u001b[1;32m    221\u001b[0m \u001b[0;34m\u001b[0m\u001b[0m\n\u001b[0;32m--> 222\u001b[0;31m     \u001b[0;32mreturn\u001b[0m \u001b[0mHTML\u001b[0m\u001b[0;34m(\u001b[0m\u001b[0mprepared_data_to_html\u001b[0m\u001b[0;34m(\u001b[0m\u001b[0mdata\u001b[0m\u001b[0;34m,\u001b[0m \u001b[0;34m**\u001b[0m\u001b[0mkwargs\u001b[0m\u001b[0;34m)\u001b[0m\u001b[0;34m)\u001b[0m\u001b[0;34m\u001b[0m\u001b[0;34m\u001b[0m\u001b[0m\n\u001b[0m\u001b[1;32m    223\u001b[0m \u001b[0;34m\u001b[0m\u001b[0m\n\u001b[1;32m    224\u001b[0m def show(data, ip='127.0.0.1', port=8888, n_retries=50,\n",
      "\u001b[0;32m~/.local/lib/python3.6/site-packages/pyLDAvis/_display.py\u001b[0m in \u001b[0;36mprepared_data_to_html\u001b[0;34m(data, d3_url, ldavis_url, ldavis_css_url, template_type, visid, use_http)\u001b[0m\n\u001b[1;32m    176\u001b[0m                            \u001b[0md3_url\u001b[0m\u001b[0;34m=\u001b[0m\u001b[0md3_url\u001b[0m\u001b[0;34m,\u001b[0m\u001b[0;34m\u001b[0m\u001b[0;34m\u001b[0m\u001b[0m\n\u001b[1;32m    177\u001b[0m                            \u001b[0mldavis_url\u001b[0m\u001b[0;34m=\u001b[0m\u001b[0mldavis_url\u001b[0m\u001b[0;34m,\u001b[0m\u001b[0;34m\u001b[0m\u001b[0;34m\u001b[0m\u001b[0m\n\u001b[0;32m--> 178\u001b[0;31m                            \u001b[0mvis_json\u001b[0m\u001b[0;34m=\u001b[0m\u001b[0mdata\u001b[0m\u001b[0;34m.\u001b[0m\u001b[0mto_json\u001b[0m\u001b[0;34m(\u001b[0m\u001b[0;34m)\u001b[0m\u001b[0;34m,\u001b[0m\u001b[0;34m\u001b[0m\u001b[0;34m\u001b[0m\u001b[0m\n\u001b[0m\u001b[1;32m    179\u001b[0m                            ldavis_css_url=ldavis_css_url)\n\u001b[1;32m    180\u001b[0m \u001b[0;34m\u001b[0m\u001b[0m\n",
      "\u001b[0;32m~/.local/lib/python3.6/site-packages/pyLDAvis/_prepare.py\u001b[0m in \u001b[0;36mto_json\u001b[0;34m(self)\u001b[0m\n\u001b[1;32m    415\u001b[0m \u001b[0;34m\u001b[0m\u001b[0m\n\u001b[1;32m    416\u001b[0m     \u001b[0;32mdef\u001b[0m \u001b[0mto_json\u001b[0m\u001b[0;34m(\u001b[0m\u001b[0mself\u001b[0m\u001b[0;34m)\u001b[0m\u001b[0;34m:\u001b[0m\u001b[0;34m\u001b[0m\u001b[0;34m\u001b[0m\u001b[0m\n\u001b[0;32m--> 417\u001b[0;31m        \u001b[0;32mreturn\u001b[0m \u001b[0mjson\u001b[0m\u001b[0;34m.\u001b[0m\u001b[0mdumps\u001b[0m\u001b[0;34m(\u001b[0m\u001b[0mself\u001b[0m\u001b[0;34m.\u001b[0m\u001b[0mto_dict\u001b[0m\u001b[0;34m(\u001b[0m\u001b[0;34m)\u001b[0m\u001b[0;34m,\u001b[0m \u001b[0mcls\u001b[0m\u001b[0;34m=\u001b[0m\u001b[0mNumPyEncoder\u001b[0m\u001b[0;34m)\u001b[0m\u001b[0;34m\u001b[0m\u001b[0;34m\u001b[0m\u001b[0m\n\u001b[0m",
      "\u001b[0;32m/usr/lib/python3.6/json/__init__.py\u001b[0m in \u001b[0;36mdumps\u001b[0;34m(obj, skipkeys, ensure_ascii, check_circular, allow_nan, cls, indent, separators, default, sort_keys, **kw)\u001b[0m\n\u001b[1;32m    236\u001b[0m         \u001b[0mcheck_circular\u001b[0m\u001b[0;34m=\u001b[0m\u001b[0mcheck_circular\u001b[0m\u001b[0;34m,\u001b[0m \u001b[0mallow_nan\u001b[0m\u001b[0;34m=\u001b[0m\u001b[0mallow_nan\u001b[0m\u001b[0;34m,\u001b[0m \u001b[0mindent\u001b[0m\u001b[0;34m=\u001b[0m\u001b[0mindent\u001b[0m\u001b[0;34m,\u001b[0m\u001b[0;34m\u001b[0m\u001b[0;34m\u001b[0m\u001b[0m\n\u001b[1;32m    237\u001b[0m         \u001b[0mseparators\u001b[0m\u001b[0;34m=\u001b[0m\u001b[0mseparators\u001b[0m\u001b[0;34m,\u001b[0m \u001b[0mdefault\u001b[0m\u001b[0;34m=\u001b[0m\u001b[0mdefault\u001b[0m\u001b[0;34m,\u001b[0m \u001b[0msort_keys\u001b[0m\u001b[0;34m=\u001b[0m\u001b[0msort_keys\u001b[0m\u001b[0;34m,\u001b[0m\u001b[0;34m\u001b[0m\u001b[0;34m\u001b[0m\u001b[0m\n\u001b[0;32m--> 238\u001b[0;31m         **kw).encode(obj)\n\u001b[0m\u001b[1;32m    239\u001b[0m \u001b[0;34m\u001b[0m\u001b[0m\n\u001b[1;32m    240\u001b[0m \u001b[0;34m\u001b[0m\u001b[0m\n",
      "\u001b[0;32m/usr/lib/python3.6/json/encoder.py\u001b[0m in \u001b[0;36mencode\u001b[0;34m(self, o)\u001b[0m\n\u001b[1;32m    197\u001b[0m         \u001b[0;31m# exceptions aren't as detailed.  The list call should be roughly\u001b[0m\u001b[0;34m\u001b[0m\u001b[0;34m\u001b[0m\u001b[0;34m\u001b[0m\u001b[0m\n\u001b[1;32m    198\u001b[0m         \u001b[0;31m# equivalent to the PySequence_Fast that ''.join() would do.\u001b[0m\u001b[0;34m\u001b[0m\u001b[0;34m\u001b[0m\u001b[0;34m\u001b[0m\u001b[0m\n\u001b[0;32m--> 199\u001b[0;31m         \u001b[0mchunks\u001b[0m \u001b[0;34m=\u001b[0m \u001b[0mself\u001b[0m\u001b[0;34m.\u001b[0m\u001b[0miterencode\u001b[0m\u001b[0;34m(\u001b[0m\u001b[0mo\u001b[0m\u001b[0;34m,\u001b[0m \u001b[0m_one_shot\u001b[0m\u001b[0;34m=\u001b[0m\u001b[0;32mTrue\u001b[0m\u001b[0;34m)\u001b[0m\u001b[0;34m\u001b[0m\u001b[0;34m\u001b[0m\u001b[0m\n\u001b[0m\u001b[1;32m    200\u001b[0m         \u001b[0;32mif\u001b[0m \u001b[0;32mnot\u001b[0m \u001b[0misinstance\u001b[0m\u001b[0;34m(\u001b[0m\u001b[0mchunks\u001b[0m\u001b[0;34m,\u001b[0m \u001b[0;34m(\u001b[0m\u001b[0mlist\u001b[0m\u001b[0;34m,\u001b[0m \u001b[0mtuple\u001b[0m\u001b[0;34m)\u001b[0m\u001b[0;34m)\u001b[0m\u001b[0;34m:\u001b[0m\u001b[0;34m\u001b[0m\u001b[0;34m\u001b[0m\u001b[0m\n\u001b[1;32m    201\u001b[0m             \u001b[0mchunks\u001b[0m \u001b[0;34m=\u001b[0m \u001b[0mlist\u001b[0m\u001b[0;34m(\u001b[0m\u001b[0mchunks\u001b[0m\u001b[0;34m)\u001b[0m\u001b[0;34m\u001b[0m\u001b[0;34m\u001b[0m\u001b[0m\n",
      "\u001b[0;32m/usr/lib/python3.6/json/encoder.py\u001b[0m in \u001b[0;36miterencode\u001b[0;34m(self, o, _one_shot)\u001b[0m\n\u001b[1;32m    255\u001b[0m                 \u001b[0mself\u001b[0m\u001b[0;34m.\u001b[0m\u001b[0mkey_separator\u001b[0m\u001b[0;34m,\u001b[0m \u001b[0mself\u001b[0m\u001b[0;34m.\u001b[0m\u001b[0mitem_separator\u001b[0m\u001b[0;34m,\u001b[0m \u001b[0mself\u001b[0m\u001b[0;34m.\u001b[0m\u001b[0msort_keys\u001b[0m\u001b[0;34m,\u001b[0m\u001b[0;34m\u001b[0m\u001b[0;34m\u001b[0m\u001b[0m\n\u001b[1;32m    256\u001b[0m                 self.skipkeys, _one_shot)\n\u001b[0;32m--> 257\u001b[0;31m         \u001b[0;32mreturn\u001b[0m \u001b[0m_iterencode\u001b[0m\u001b[0;34m(\u001b[0m\u001b[0mo\u001b[0m\u001b[0;34m,\u001b[0m \u001b[0;36m0\u001b[0m\u001b[0;34m)\u001b[0m\u001b[0;34m\u001b[0m\u001b[0;34m\u001b[0m\u001b[0m\n\u001b[0m\u001b[1;32m    258\u001b[0m \u001b[0;34m\u001b[0m\u001b[0m\n\u001b[1;32m    259\u001b[0m def _make_iterencode(markers, _default, _encoder, _indent, _floatstr,\n",
      "\u001b[0;32m~/.local/lib/python3.6/site-packages/pyLDAvis/utils.py\u001b[0m in \u001b[0;36mdefault\u001b[0;34m(self, obj)\u001b[0m\n\u001b[1;32m    144\u001b[0m         \u001b[0;32mif\u001b[0m \u001b[0misinstance\u001b[0m\u001b[0;34m(\u001b[0m\u001b[0mobj\u001b[0m\u001b[0;34m,\u001b[0m \u001b[0mnp\u001b[0m\u001b[0;34m.\u001b[0m\u001b[0mfloat64\u001b[0m\u001b[0;34m)\u001b[0m \u001b[0;32mor\u001b[0m \u001b[0misinstance\u001b[0m\u001b[0;34m(\u001b[0m\u001b[0mobj\u001b[0m\u001b[0;34m,\u001b[0m \u001b[0mnp\u001b[0m\u001b[0;34m.\u001b[0m\u001b[0mfloat32\u001b[0m\u001b[0;34m)\u001b[0m\u001b[0;34m:\u001b[0m\u001b[0;34m\u001b[0m\u001b[0;34m\u001b[0m\u001b[0m\n\u001b[1;32m    145\u001b[0m             \u001b[0;32mreturn\u001b[0m \u001b[0mfloat\u001b[0m\u001b[0;34m(\u001b[0m\u001b[0mobj\u001b[0m\u001b[0;34m)\u001b[0m\u001b[0;34m\u001b[0m\u001b[0;34m\u001b[0m\u001b[0m\n\u001b[0;32m--> 146\u001b[0;31m         \u001b[0;32mreturn\u001b[0m \u001b[0mjson\u001b[0m\u001b[0;34m.\u001b[0m\u001b[0mJSONEncoder\u001b[0m\u001b[0;34m.\u001b[0m\u001b[0mdefault\u001b[0m\u001b[0;34m(\u001b[0m\u001b[0mself\u001b[0m\u001b[0;34m,\u001b[0m \u001b[0mobj\u001b[0m\u001b[0;34m)\u001b[0m\u001b[0;34m\u001b[0m\u001b[0;34m\u001b[0m\u001b[0m\n\u001b[0m",
      "\u001b[0;32m/usr/lib/python3.6/json/encoder.py\u001b[0m in \u001b[0;36mdefault\u001b[0;34m(self, o)\u001b[0m\n\u001b[1;32m    178\u001b[0m         \"\"\"\n\u001b[1;32m    179\u001b[0m         raise TypeError(\"Object of type '%s' is not JSON serializable\" %\n\u001b[0;32m--> 180\u001b[0;31m                         o.__class__.__name__)\n\u001b[0m\u001b[1;32m    181\u001b[0m \u001b[0;34m\u001b[0m\u001b[0m\n\u001b[1;32m    182\u001b[0m     \u001b[0;32mdef\u001b[0m \u001b[0mencode\u001b[0m\u001b[0;34m(\u001b[0m\u001b[0mself\u001b[0m\u001b[0;34m,\u001b[0m \u001b[0mo\u001b[0m\u001b[0;34m)\u001b[0m\u001b[0;34m:\u001b[0m\u001b[0;34m\u001b[0m\u001b[0;34m\u001b[0m\u001b[0m\n",
      "\u001b[0;31mTypeError\u001b[0m: Object of type 'complex' is not JSON serializable"
     ]
    }
   ],
   "source": [
    "lda_vis = pyLDAvis.gensim.prepare(lda, corpus, dictionary)\n",
    "pyLDAvis.display(lda_vis)"
   ]
  },
  {
   "cell_type": "code",
   "execution_count": null,
   "metadata": {},
   "outputs": [],
   "source": []
  },
  {
   "cell_type": "markdown",
   "metadata": {},
   "source": [
    "# TensorFlow"
   ]
  },
  {
   "cell_type": "code",
   "execution_count": 17,
   "metadata": {
    "ExecuteTime": {
     "end_time": "2019-01-27T12:26:07.153744Z",
     "start_time": "2019-01-27T12:26:07.142846Z"
    }
   },
   "outputs": [
    {
     "data": {
      "text/plain": [
       "(3000, 20)"
      ]
     },
     "execution_count": 17,
     "metadata": {},
     "output_type": "execute_result"
    }
   ],
   "source": [
    "import numpy as np\n",
    "\n",
    "#Important Parameters\n",
    "VOCAB_SIZE = len(prods_in)#model.wv.vocab)\n",
    "EMBEDDING_DIM = model['sandwich'].shape[0]\n",
    "\n",
    "w2v = np.zeros((VOCAB_SIZE, EMBEDDING_DIM))\n",
    "w2v.shape"
   ]
  },
  {
   "cell_type": "code",
   "execution_count": null,
   "metadata": {},
   "outputs": [],
   "source": []
  },
  {
   "cell_type": "code",
   "execution_count": 18,
   "metadata": {
    "ExecuteTime": {
     "end_time": "2019-01-27T12:26:07.168743Z",
     "start_time": "2019-01-27T12:26:07.157641Z"
    }
   },
   "outputs": [
    {
     "data": {
      "text/plain": [
       "'C:\\\\Users\\\\F3731710\\\\Documents\\\\GitHub\\\\2Embeddings/tensorboard/metadata.tsv'"
      ]
     },
     "execution_count": 18,
     "metadata": {},
     "output_type": "execute_result"
    }
   ],
   "source": [
    "tsv_file_path = os.getcwd()+\"/tensorboard/metadata.tsv\"\n",
    "tsv_file_path"
   ]
  },
  {
   "cell_type": "code",
   "execution_count": 19,
   "metadata": {
    "ExecuteTime": {
     "end_time": "2019-01-27T12:26:10.768179Z",
     "start_time": "2019-01-27T12:26:07.186599Z"
    },
    "scrolled": true
   },
   "outputs": [
    {
     "data": {
      "application/vnd.jupyter.widget-view+json": {
       "model_id": "42ef300e9f4042d4bfc9c476daa689ce",
       "version_major": 2,
       "version_minor": 0
      },
      "text/plain": [
       "HBox(children=(IntProgress(value=1, bar_style='info', max=1), HTML(value='')))"
      ]
     },
     "metadata": {},
     "output_type": "display_data"
    },
    {
     "name": "stdout",
     "output_type": "stream",
     "text": [
      "\n"
     ]
    },
    {
     "data": {
      "text/plain": [
       "(3000, 20)"
      ]
     },
     "execution_count": 19,
     "metadata": {},
     "output_type": "execute_result"
    }
   ],
   "source": [
    "with open(tsv_file_path,'a+', encoding='utf-8') as file_metadata:\n",
    "    for i, word in tqdm_notebook(enumerate(list(prods_in['product_name'])[:VOCAB_SIZE])):\n",
    "        w2v[i] = model.infer_vector(word)\n",
    "        file_metadata.write(list(prod_names[:VOCAB_SIZE])[i] +'\\n')\n",
    "w2v.shape"
   ]
  },
  {
   "cell_type": "code",
   "execution_count": 116,
   "metadata": {
    "ExecuteTime": {
     "end_time": "2019-01-27T12:26:10.773066Z",
     "start_time": "2019-01-27T12:26:10.769482Z"
    }
   },
   "outputs": [
    {
     "data": {
      "text/plain": [
       "10000"
      ]
     },
     "execution_count": 116,
     "metadata": {},
     "output_type": "execute_result"
    }
   ],
   "source": [
    "VOCAB_SIZE"
   ]
  },
  {
   "cell_type": "code",
   "execution_count": 117,
   "metadata": {
    "ExecuteTime": {
     "end_time": "2019-01-27T12:26:10.779561Z",
     "start_time": "2019-01-27T12:26:10.774962Z"
    }
   },
   "outputs": [
    {
     "ename": "ModuleNotFoundError",
     "evalue": "No module named 'tensorflow'",
     "output_type": "error",
     "traceback": [
      "\u001b[1;31m---------------------------------------------------------------------------\u001b[0m",
      "\u001b[1;31mModuleNotFoundError\u001b[0m                       Traceback (most recent call last)",
      "\u001b[1;32m<ipython-input-117-0f95c12b9890>\u001b[0m in \u001b[0;36m<module>\u001b[1;34m()\u001b[0m\n\u001b[1;32m----> 1\u001b[1;33m \u001b[1;32mfrom\u001b[0m \u001b[0mtensorflow\u001b[0m\u001b[1;33m.\u001b[0m\u001b[0mcontrib\u001b[0m\u001b[1;33m.\u001b[0m\u001b[0mtensorboard\u001b[0m\u001b[1;33m.\u001b[0m\u001b[0mplugins\u001b[0m \u001b[1;32mimport\u001b[0m \u001b[0mprojector\u001b[0m\u001b[1;33m\u001b[0m\u001b[0m\n\u001b[0m\u001b[0;32m      2\u001b[0m \u001b[1;33m\u001b[0m\u001b[0m\n\u001b[0;32m      3\u001b[0m \u001b[0mTENSORBOARD_FILES_PATH\u001b[0m \u001b[1;33m=\u001b[0m \u001b[0mos\u001b[0m\u001b[1;33m.\u001b[0m\u001b[0mgetcwd\u001b[0m\u001b[1;33m(\u001b[0m\u001b[1;33m)\u001b[0m\u001b[1;33m+\u001b[0m\u001b[1;34m\"/tensorboard\"\u001b[0m\u001b[1;33m\u001b[0m\u001b[0m\n",
      "\u001b[1;31mModuleNotFoundError\u001b[0m: No module named 'tensorflow'"
     ]
    }
   ],
   "source": [
    "from tensorflow.contrib.tensorboard.plugins import projector\n",
    "\n",
    "TENSORBOARD_FILES_PATH = os.getcwd()+\"/tensorboard\""
   ]
  },
  {
   "cell_type": "code",
   "execution_count": 118,
   "metadata": {
    "ExecuteTime": {
     "end_time": "2019-01-27T12:26:10.935075Z",
     "start_time": "2019-01-27T12:26:10.785168Z"
    }
   },
   "outputs": [
    {
     "ename": "NameError",
     "evalue": "name 'tf' is not defined",
     "output_type": "error",
     "traceback": [
      "\u001b[1;31m---------------------------------------------------------------------------\u001b[0m",
      "\u001b[1;31mNameError\u001b[0m                                 Traceback (most recent call last)",
      "\u001b[1;32m<ipython-input-118-0e79bffd0c2d>\u001b[0m in \u001b[0;36m<module>\u001b[1;34m()\u001b[0m\n\u001b[0;32m      1\u001b[0m \u001b[1;31m#Tensorflow Placeholders\u001b[0m\u001b[1;33m\u001b[0m\u001b[1;33m\u001b[0m\u001b[0m\n\u001b[1;32m----> 2\u001b[1;33m \u001b[0mX_init\u001b[0m \u001b[1;33m=\u001b[0m \u001b[0mtf\u001b[0m\u001b[1;33m.\u001b[0m\u001b[0mplaceholder\u001b[0m\u001b[1;33m(\u001b[0m\u001b[0mtf\u001b[0m\u001b[1;33m.\u001b[0m\u001b[0mfloat32\u001b[0m\u001b[1;33m,\u001b[0m \u001b[0mshape\u001b[0m\u001b[1;33m=\u001b[0m\u001b[1;33m(\u001b[0m\u001b[0mVOCAB_SIZE\u001b[0m\u001b[1;33m,\u001b[0m \u001b[0mEMBEDDING_DIM\u001b[0m\u001b[1;33m)\u001b[0m\u001b[1;33m,\u001b[0m \u001b[0mname\u001b[0m\u001b[1;33m=\u001b[0m\u001b[1;34m\"embedding\"\u001b[0m\u001b[1;33m)\u001b[0m\u001b[1;33m\u001b[0m\u001b[0m\n\u001b[0m\u001b[0;32m      3\u001b[0m \u001b[0mX\u001b[0m \u001b[1;33m=\u001b[0m \u001b[0mtf\u001b[0m\u001b[1;33m.\u001b[0m\u001b[0mVariable\u001b[0m\u001b[1;33m(\u001b[0m\u001b[0mX_init\u001b[0m\u001b[1;33m)\u001b[0m\u001b[1;33m\u001b[0m\u001b[0m\n\u001b[0;32m      4\u001b[0m \u001b[1;33m\u001b[0m\u001b[0m\n\u001b[0;32m      5\u001b[0m \u001b[1;31m#Initializer\u001b[0m\u001b[1;33m\u001b[0m\u001b[1;33m\u001b[0m\u001b[0m\n",
      "\u001b[1;31mNameError\u001b[0m: name 'tf' is not defined"
     ]
    }
   ],
   "source": [
    "#Tensorflow Placeholders\n",
    "X_init = tf.placeholder(tf.float32, shape=(VOCAB_SIZE, EMBEDDING_DIM), name=\"embedding\")\n",
    "X = tf.Variable(X_init)\n",
    "\n",
    "#Initializer\n",
    "init = tf.global_variables_initializer()\n",
    "\n",
    "#Start Tensorflow Session\n",
    "sess = tf.Session()\n",
    "sess.run(init, feed_dict={X_init: w2v})\n",
    "\n",
    "#Instance of Saver, save the graph.\n",
    "saver = tf.train.Saver()\n",
    "writer = tf.summary.FileWriter(TENSORBOARD_FILES_PATH, sess.graph)"
   ]
  },
  {
   "cell_type": "code",
   "execution_count": 40,
   "metadata": {
    "ExecuteTime": {
     "end_time": "2019-01-27T12:26:10.986595Z",
     "start_time": "2019-01-27T12:26:10.939387Z"
    }
   },
   "outputs": [],
   "source": [
    "#Configure a Tensorflow Projector\n",
    "config = projector.ProjectorConfig()\n",
    "embed = config.embeddings.add()\n",
    "embed.metadata_path = tsv_file_path\n",
    "\n",
    "#Write a projector_config\n",
    "projector.visualize_embeddings(writer,config)\n",
    "\n",
    "#save a checkpoint\n",
    "saver.save(sess, TENSORBOARD_FILES_PATH+'/model.ckpt', global_step = VOCAB_SIZE)\n",
    "\n",
    "#close the session\n",
    "sess.close()"
   ]
  }
 ],
 "metadata": {
  "hide_input": false,
  "kernelspec": {
   "display_name": "Python 3",
   "language": "python",
   "name": "python3"
  },
  "language_info": {
   "codemirror_mode": {
    "name": "ipython",
    "version": 3
   },
   "file_extension": ".py",
   "mimetype": "text/x-python",
   "name": "python",
   "nbconvert_exporter": "python",
   "pygments_lexer": "ipython3",
   "version": "3.6.7"
  }
 },
 "nbformat": 4,
 "nbformat_minor": 2
}
